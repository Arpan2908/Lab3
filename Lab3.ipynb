{
  "nbformat": 4,
  "nbformat_minor": 0,
  "metadata": {
    "colab": {
      "name": "Lab3.ipynb",
      "provenance": [],
      "collapsed_sections": []
    },
    "kernelspec": {
      "name": "python3",
      "display_name": "Python 3"
    },
    "language_info": {
      "name": "python"
    }
  },
  "cells": [
    {
      "cell_type": "code",
      "metadata": {
        "colab": {
          "base_uri": "https://localhost:8080/"
        },
        "id": "ap9E_j3bDKoc",
        "outputId": "f4620c43-ec49-47b9-842e-ccdafcfe2217"
      },
      "source": [
        "# Add gis packages to colab environment\n",
        "!pip install geopandas\n",
        "!apt-get install -y libspatialindex-dev\n",
        "!pip install rtree\n",
        "\n",
        "# Then import packages\n",
        "import pandas as pd  # provides interface for interacting with tabular data\n",
        "import geopandas as gpd  # combines the capabilities of pandas and shapely for geospatial operations\n",
        "from shapely.geometry import Point, Polygon, MultiPolygon  # for manipulating text data into geospatial shapes\n",
        "from shapely import wkt  # stands for \"well known text,\" allows for interchange across GIS programs\n",
        "import rtree  # supports geospatial join"
      ],
      "execution_count": 1,
      "outputs": [
        {
          "output_type": "stream",
          "text": [
            "Collecting geopandas\n",
            "\u001b[?25l  Downloading https://files.pythonhosted.org/packages/d7/bf/e9cefb69d39155d122b6ddca53893b61535fa6ffdad70bf5ef708977f53f/geopandas-0.9.0-py2.py3-none-any.whl (994kB)\n",
            "\u001b[K     |████████████████████████████████| 1.0MB 16.9MB/s \n",
            "\u001b[?25hCollecting pyproj>=2.2.0\n",
            "\u001b[?25l  Downloading https://files.pythonhosted.org/packages/b1/72/d52e9ca81caef056062d71991b0e9b1d16af042245627c5d0e4916a36c4f/pyproj-3.0.1-cp37-cp37m-manylinux2010_x86_64.whl (6.5MB)\n",
            "\u001b[K     |████████████████████████████████| 6.5MB 42.9MB/s \n",
            "\u001b[?25hRequirement already satisfied: shapely>=1.6 in /usr/local/lib/python3.7/dist-packages (from geopandas) (1.7.1)\n",
            "Collecting fiona>=1.8\n",
            "\u001b[?25l  Downloading https://files.pythonhosted.org/packages/ea/2a/404b22883298a3efe9c6ef8d67acbf2c38443fa366ee9cd4cd34e17626ea/Fiona-1.8.19-cp37-cp37m-manylinux1_x86_64.whl (15.3MB)\n",
            "\u001b[K     |████████████████████████████████| 15.3MB 279kB/s \n",
            "\u001b[?25hRequirement already satisfied: pandas>=0.24.0 in /usr/local/lib/python3.7/dist-packages (from geopandas) (1.1.5)\n",
            "Requirement already satisfied: certifi in /usr/local/lib/python3.7/dist-packages (from pyproj>=2.2.0->geopandas) (2020.12.5)\n",
            "Collecting munch\n",
            "  Downloading https://files.pythonhosted.org/packages/cc/ab/85d8da5c9a45e072301beb37ad7f833cd344e04c817d97e0cc75681d248f/munch-2.5.0-py2.py3-none-any.whl\n",
            "Requirement already satisfied: six>=1.7 in /usr/local/lib/python3.7/dist-packages (from fiona>=1.8->geopandas) (1.15.0)\n",
            "Collecting cligj>=0.5\n",
            "  Downloading https://files.pythonhosted.org/packages/42/1e/947eadf10d6804bf276eb8a038bd5307996dceaaa41cfd21b7a15ec62f5d/cligj-0.7.1-py3-none-any.whl\n",
            "Collecting click-plugins>=1.0\n",
            "  Downloading https://files.pythonhosted.org/packages/e9/da/824b92d9942f4e472702488857914bdd50f73021efea15b4cad9aca8ecef/click_plugins-1.1.1-py2.py3-none-any.whl\n",
            "Requirement already satisfied: attrs>=17 in /usr/local/lib/python3.7/dist-packages (from fiona>=1.8->geopandas) (20.3.0)\n",
            "Requirement already satisfied: click<8,>=4.0 in /usr/local/lib/python3.7/dist-packages (from fiona>=1.8->geopandas) (7.1.2)\n",
            "Requirement already satisfied: python-dateutil>=2.7.3 in /usr/local/lib/python3.7/dist-packages (from pandas>=0.24.0->geopandas) (2.8.1)\n",
            "Requirement already satisfied: pytz>=2017.2 in /usr/local/lib/python3.7/dist-packages (from pandas>=0.24.0->geopandas) (2018.9)\n",
            "Requirement already satisfied: numpy>=1.15.4 in /usr/local/lib/python3.7/dist-packages (from pandas>=0.24.0->geopandas) (1.19.5)\n",
            "Installing collected packages: pyproj, munch, cligj, click-plugins, fiona, geopandas\n",
            "Successfully installed click-plugins-1.1.1 cligj-0.7.1 fiona-1.8.19 geopandas-0.9.0 munch-2.5.0 pyproj-3.0.1\n",
            "Reading package lists... Done\n",
            "Building dependency tree       \n",
            "Reading state information... Done\n",
            "The following package was automatically installed and is no longer required:\n",
            "  libnvidia-common-460\n",
            "Use 'apt autoremove' to remove it.\n",
            "The following additional packages will be installed:\n",
            "  libspatialindex-c4v5 libspatialindex4v5\n",
            "The following NEW packages will be installed:\n",
            "  libspatialindex-c4v5 libspatialindex-dev libspatialindex4v5\n",
            "0 upgraded, 3 newly installed, 0 to remove and 34 not upgraded.\n",
            "Need to get 555 kB of archives.\n",
            "After this operation, 3,308 kB of additional disk space will be used.\n",
            "Get:1 http://archive.ubuntu.com/ubuntu bionic/universe amd64 libspatialindex4v5 amd64 1.8.5-5 [219 kB]\n",
            "Get:2 http://archive.ubuntu.com/ubuntu bionic/universe amd64 libspatialindex-c4v5 amd64 1.8.5-5 [51.7 kB]\n",
            "Get:3 http://archive.ubuntu.com/ubuntu bionic/universe amd64 libspatialindex-dev amd64 1.8.5-5 [285 kB]\n",
            "Fetched 555 kB in 2s (281 kB/s)\n",
            "Selecting previously unselected package libspatialindex4v5:amd64.\n",
            "(Reading database ... 160690 files and directories currently installed.)\n",
            "Preparing to unpack .../libspatialindex4v5_1.8.5-5_amd64.deb ...\n",
            "Unpacking libspatialindex4v5:amd64 (1.8.5-5) ...\n",
            "Selecting previously unselected package libspatialindex-c4v5:amd64.\n",
            "Preparing to unpack .../libspatialindex-c4v5_1.8.5-5_amd64.deb ...\n",
            "Unpacking libspatialindex-c4v5:amd64 (1.8.5-5) ...\n",
            "Selecting previously unselected package libspatialindex-dev:amd64.\n",
            "Preparing to unpack .../libspatialindex-dev_1.8.5-5_amd64.deb ...\n",
            "Unpacking libspatialindex-dev:amd64 (1.8.5-5) ...\n",
            "Setting up libspatialindex4v5:amd64 (1.8.5-5) ...\n",
            "Setting up libspatialindex-c4v5:amd64 (1.8.5-5) ...\n",
            "Setting up libspatialindex-dev:amd64 (1.8.5-5) ...\n",
            "Processing triggers for libc-bin (2.27-3ubuntu1.2) ...\n",
            "/sbin/ldconfig.real: /usr/local/lib/python3.7/dist-packages/ideep4py/lib/libmkldnn.so.0 is not a symbolic link\n",
            "\n",
            "Collecting rtree\n",
            "\u001b[?25l  Downloading https://files.pythonhosted.org/packages/51/05/5a67111cee91d2165a2bcb855f442186e3d76ddef834596cc84d4875c401/Rtree-0.9.7-cp37-cp37m-manylinux2010_x86_64.whl (994kB)\n",
            "\u001b[K     |████████████████████████████████| 1.0MB 17.9MB/s \n",
            "\u001b[?25hInstalling collected packages: rtree\n",
            "Successfully installed rtree-0.9.7\n"
          ],
          "name": "stdout"
        }
      ]
    },
    {
      "cell_type": "code",
      "metadata": {
        "colab": {
          "base_uri": "https://localhost:8080/"
        },
        "id": "9WiJWrPMDOZG",
        "outputId": "78c3d28e-c2f8-4a61-e176-a728d008e5b2"
      },
      "source": [
        "from google.colab import drive\n",
        "drive.mount('/content/gdrive') # connects Colab to your Google Drive\n",
        "root_path = 'gdrive/My Drive/gis/' # set root path to folder where you uploaded the data"
      ],
      "execution_count": 4,
      "outputs": [
        {
          "output_type": "stream",
          "text": [
            "Drive already mounted at /content/gdrive; to attempt to forcibly remount, call drive.mount(\"/content/gdrive\", force_remount=True).\n"
          ],
          "name": "stdout"
        }
      ]
    },
    {
      "cell_type": "code",
      "metadata": {
        "id": "5Gkl80TyDjLA"
      },
      "source": [
        "# Read in PUDs file as a geodataframe and initialize coordinate reference system (CRS)\n",
        "puds = gpd.read_file(root_path+'input/Planned_Unit_Development_(PUDs).shp', crs = {'init' :'epsg:4326'})\n",
        "aff = pd.read_csv(root_path+'input/Affordable_Housing.csv')\n",
        "crosswalk = pd.read_csv(root_path+'input/zoning_crosswalk.csv')"
      ],
      "execution_count": 6,
      "outputs": []
    },
    {
      "cell_type": "code",
      "metadata": {
        "colab": {
          "base_uri": "https://localhost:8080/",
          "height": 338
        },
        "id": "RzSNLATQD23R",
        "outputId": "a3da3724-a738-4246-ee96-28ca3f8605d4"
      },
      "source": [
        "# Running this code grabs rows from the first 3 index places (4 rows total!)\n",
        "puds.sample(3)"
      ],
      "execution_count": 7,
      "outputs": [
        {
          "output_type": "execute_result",
          "data": {
            "text/html": [
              "<div>\n",
              "<style scoped>\n",
              "    .dataframe tbody tr th:only-of-type {\n",
              "        vertical-align: middle;\n",
              "    }\n",
              "\n",
              "    .dataframe tbody tr th {\n",
              "        vertical-align: top;\n",
              "    }\n",
              "\n",
              "    .dataframe thead th {\n",
              "        text-align: right;\n",
              "    }\n",
              "</style>\n",
              "<table border=\"1\" class=\"dataframe\">\n",
              "  <thead>\n",
              "    <tr style=\"text-align: right;\">\n",
              "      <th></th>\n",
              "      <th>OBJECTID</th>\n",
              "      <th>PUD_NAME</th>\n",
              "      <th>PUD_WEB_UR</th>\n",
              "      <th>PUD_CHANGE</th>\n",
              "      <th>PUD_ZONING</th>\n",
              "      <th>PUD_STATUS</th>\n",
              "      <th>PUD_CASE_N</th>\n",
              "      <th>GLOBALID</th>\n",
              "      <th>WARD</th>\n",
              "      <th>SHAPEAREA</th>\n",
              "      <th>SHAPELEN</th>\n",
              "      <th>geometry</th>\n",
              "    </tr>\n",
              "  </thead>\n",
              "  <tbody>\n",
              "    <tr>\n",
              "      <th>52</th>\n",
              "      <td>187229</td>\n",
              "      <td>Gonzaga</td>\n",
              "      <td>https://app.dcoz.dc.gov/Content/Search/ViewCas...</td>\n",
              "      <td>Official Digital Zoning Map of July 1, 2010</td>\n",
              "      <td>C-3-C</td>\n",
              "      <td>Final</td>\n",
              "      <td>89-14</td>\n",
              "      <td>{6DC97781-75F1-4569-8FE5-FC93133C7422}</td>\n",
              "      <td>Ward 6</td>\n",
              "      <td>0</td>\n",
              "      <td>0</td>\n",
              "      <td>POLYGON ((-77.00952 38.90069, -77.00928 38.900...</td>\n",
              "    </tr>\n",
              "    <tr>\n",
              "      <th>268</th>\n",
              "      <td>187445</td>\n",
              "      <td>Jemals Hechts LLC</td>\n",
              "      <td>https://app.dcoz.dc.gov/Content/Search/ViewCas...</td>\n",
              "      <td>Set Down 2/24/14, Approved July 17, 2015</td>\n",
              "      <td>C-3-C</td>\n",
              "      <td>Final</td>\n",
              "      <td>14-01A</td>\n",
              "      <td>{0E6CC5F4-EC69-4FC6-8432-832F077B22C1}</td>\n",
              "      <td>Ward 5</td>\n",
              "      <td>0</td>\n",
              "      <td>0</td>\n",
              "      <td>POLYGON ((-76.98503 38.91550, -76.98392 38.915...</td>\n",
              "    </tr>\n",
              "    <tr>\n",
              "      <th>155</th>\n",
              "      <td>187332</td>\n",
              "      <td>3910 Georgia Ave. Associates et al.</td>\n",
              "      <td>https://app.dcoz.dc.gov/Content/Search/ViewCas...</td>\n",
              "      <td>Minor Modification 2/28/2011</td>\n",
              "      <td>C-3-A</td>\n",
              "      <td>Final</td>\n",
              "      <td>08-08A</td>\n",
              "      <td>{DA2A18E7-2757-4DE3-8DDE-CD3011EF058B}</td>\n",
              "      <td>Ward 4</td>\n",
              "      <td>0</td>\n",
              "      <td>0</td>\n",
              "      <td>POLYGON ((-77.02588 38.93901, -77.02589 38.939...</td>\n",
              "    </tr>\n",
              "  </tbody>\n",
              "</table>\n",
              "</div>"
            ],
            "text/plain": [
              "     OBJECTID  ...                                           geometry\n",
              "52     187229  ...  POLYGON ((-77.00952 38.90069, -77.00928 38.900...\n",
              "268    187445  ...  POLYGON ((-76.98503 38.91550, -76.98392 38.915...\n",
              "155    187332  ...  POLYGON ((-77.02588 38.93901, -77.02589 38.939...\n",
              "\n",
              "[3 rows x 12 columns]"
            ]
          },
          "metadata": {
            "tags": []
          },
          "execution_count": 7
        }
      ]
    },
    {
      "cell_type": "code",
      "metadata": {
        "colab": {
          "base_uri": "https://localhost:8080/"
        },
        "id": "Tu3_djQIE1zS",
        "outputId": "4ce441ee-fbfb-444e-93ff-549a07fc249e"
      },
      "source": [
        "# This gives you a summary of what is within the Affordable housing .csv\n",
        "aff.info()"
      ],
      "execution_count": 8,
      "outputs": [
        {
          "output_type": "stream",
          "text": [
            "<class 'pandas.core.frame.DataFrame'>\n",
            "RangeIndex: 558 entries, 0 to 557\n",
            "Data columns (total 22 columns):\n",
            " #   Column                         Non-Null Count  Dtype  \n",
            "---  ------                         --------------  -----  \n",
            " 0   X                              558 non-null    float64\n",
            " 1   Y                              558 non-null    float64\n",
            " 2   OBJECTID                       558 non-null    int64  \n",
            " 3   MAR_WARD                       558 non-null    object \n",
            " 4   ADDRESS                        555 non-null    object \n",
            " 5   PROJECT_NAME                   558 non-null    object \n",
            " 6   STATUS_PUBLIC                  558 non-null    object \n",
            " 7   AGENCY_CALCULATED              558 non-null    object \n",
            " 8   TOTAL_AFFORDABLE_UNITS         558 non-null    int64  \n",
            " 9   LATITUDE                       555 non-null    float64\n",
            " 10  LONGITUDE                      555 non-null    float64\n",
            " 11  AFFORDABLE_UNITS_AT_0_30_AMI   558 non-null    int64  \n",
            " 12  AFFORDABLE_UNITS_AT_31_50_AMI  558 non-null    int64  \n",
            " 13  AFFORDABLE_UNITS_AT_51_60_AMI  558 non-null    int64  \n",
            " 14  AFFORDABLE_UNITS_AT_61_80_AMI  558 non-null    int64  \n",
            " 15  AFFORDABLE_UNITS_AT_81_AMI     558 non-null    int64  \n",
            " 16  CASE_ID                        97 non-null     object \n",
            " 17  ADDRESS_ID                     488 non-null    float64\n",
            " 18  XCOORD                         558 non-null    float64\n",
            " 19  YCOORD                         558 non-null    float64\n",
            " 20  FULLADDRESS                    487 non-null    object \n",
            " 21  GIS_LAST_MOD_DTTM              558 non-null    object \n",
            "dtypes: float64(7), int64(7), object(8)\n",
            "memory usage: 96.0+ KB\n"
          ],
          "name": "stdout"
        }
      ]
    },
    {
      "cell_type": "code",
      "metadata": {
        "colab": {
          "base_uri": "https://localhost:8080/"
        },
        "id": "GbMnCfcsE2rw",
        "outputId": "32f76450-b1a3-4a94-9b7d-8333f6ec1069"
      },
      "source": [
        "# This gives you a summary of what is within the PUD .shp file\n",
        "puds.info()"
      ],
      "execution_count": 9,
      "outputs": [
        {
          "output_type": "stream",
          "text": [
            "<class 'geopandas.geodataframe.GeoDataFrame'>\n",
            "RangeIndex: 302 entries, 0 to 301\n",
            "Data columns (total 12 columns):\n",
            " #   Column      Non-Null Count  Dtype   \n",
            "---  ------      --------------  -----   \n",
            " 0   OBJECTID    302 non-null    int64   \n",
            " 1   PUD_NAME    302 non-null    object  \n",
            " 2   PUD_WEB_UR  302 non-null    object  \n",
            " 3   PUD_CHANGE  300 non-null    object  \n",
            " 4   PUD_ZONING  302 non-null    object  \n",
            " 5   PUD_STATUS  302 non-null    object  \n",
            " 6   PUD_CASE_N  302 non-null    object  \n",
            " 7   GLOBALID    302 non-null    object  \n",
            " 8   WARD        301 non-null    object  \n",
            " 9   SHAPEAREA   302 non-null    int64   \n",
            " 10  SHAPELEN    302 non-null    int64   \n",
            " 11  geometry    302 non-null    geometry\n",
            "dtypes: geometry(1), int64(3), object(8)\n",
            "memory usage: 28.4+ KB\n"
          ],
          "name": "stdout"
        }
      ]
    },
    {
      "cell_type": "code",
      "metadata": {
        "colab": {
          "base_uri": "https://localhost:8080/"
        },
        "id": "wtZBsmXeE7LB",
        "outputId": "2430da14-1eb9-42f9-c847-355e696c8840"
      },
      "source": [
        "# Create a geometry column in the affordable housing dataframe\n",
        "aff['geometry'] = aff.apply(lambda row: Point(row.X, row.Y), axis=1)\n",
        "aff = gpd.GeoDataFrame(aff, crs={'init' :'epsg:4326'})"
      ],
      "execution_count": 10,
      "outputs": [
        {
          "output_type": "stream",
          "text": [
            "/usr/local/lib/python3.7/dist-packages/pyproj/crs/crs.py:53: FutureWarning: '+init=<authority>:<code>' syntax is deprecated. '<authority>:<code>' is the preferred initialization method. When making the change, be mindful of axis order changes: https://pyproj4.github.io/pyproj/stable/gotchas.html#axis-order-changes-in-proj-6\n",
            "  return _prepare_from_string(\" \".join(pjargs))\n"
          ],
          "name": "stderr"
        }
      ]
    },
    {
      "cell_type": "code",
      "metadata": {
        "colab": {
          "base_uri": "https://localhost:8080/",
          "height": 164
        },
        "id": "rC-VJfh8H4ba",
        "outputId": "376f8663-7b83-4ba1-cee7-bf43da599eec"
      },
      "source": [
        "aff.sample(1) #sampling to the first index... or column headers and one row."
      ],
      "execution_count": 11,
      "outputs": [
        {
          "output_type": "execute_result",
          "data": {
            "text/html": [
              "<div>\n",
              "<style scoped>\n",
              "    .dataframe tbody tr th:only-of-type {\n",
              "        vertical-align: middle;\n",
              "    }\n",
              "\n",
              "    .dataframe tbody tr th {\n",
              "        vertical-align: top;\n",
              "    }\n",
              "\n",
              "    .dataframe thead th {\n",
              "        text-align: right;\n",
              "    }\n",
              "</style>\n",
              "<table border=\"1\" class=\"dataframe\">\n",
              "  <thead>\n",
              "    <tr style=\"text-align: right;\">\n",
              "      <th></th>\n",
              "      <th>X</th>\n",
              "      <th>Y</th>\n",
              "      <th>OBJECTID</th>\n",
              "      <th>MAR_WARD</th>\n",
              "      <th>ADDRESS</th>\n",
              "      <th>PROJECT_NAME</th>\n",
              "      <th>STATUS_PUBLIC</th>\n",
              "      <th>AGENCY_CALCULATED</th>\n",
              "      <th>TOTAL_AFFORDABLE_UNITS</th>\n",
              "      <th>LATITUDE</th>\n",
              "      <th>LONGITUDE</th>\n",
              "      <th>AFFORDABLE_UNITS_AT_0_30_AMI</th>\n",
              "      <th>AFFORDABLE_UNITS_AT_31_50_AMI</th>\n",
              "      <th>AFFORDABLE_UNITS_AT_51_60_AMI</th>\n",
              "      <th>AFFORDABLE_UNITS_AT_61_80_AMI</th>\n",
              "      <th>AFFORDABLE_UNITS_AT_81_AMI</th>\n",
              "      <th>CASE_ID</th>\n",
              "      <th>ADDRESS_ID</th>\n",
              "      <th>XCOORD</th>\n",
              "      <th>YCOORD</th>\n",
              "      <th>FULLADDRESS</th>\n",
              "      <th>GIS_LAST_MOD_DTTM</th>\n",
              "      <th>geometry</th>\n",
              "    </tr>\n",
              "  </thead>\n",
              "  <tbody>\n",
              "    <tr>\n",
              "      <th>91</th>\n",
              "      <td>-76.983039</td>\n",
              "      <td>38.866136</td>\n",
              "      <td>1678</td>\n",
              "      <td>Ward 8</td>\n",
              "      <td>1916 15th Street Southeast, Washington, Distri...</td>\n",
              "      <td>1916 15th St SE</td>\n",
              "      <td>Under Construction</td>\n",
              "      <td>DHCD</td>\n",
              "      <td>0</td>\n",
              "      <td>38.866129</td>\n",
              "      <td>-76.983037</td>\n",
              "      <td>0</td>\n",
              "      <td>0</td>\n",
              "      <td>0</td>\n",
              "      <td>0</td>\n",
              "      <td>0</td>\n",
              "      <td>NaN</td>\n",
              "      <td>54043.0</td>\n",
              "      <td>401472.15</td>\n",
              "      <td>133145.46</td>\n",
              "      <td>1916 15TH STREET SE</td>\n",
              "      <td>2021/05/03 04:01:24+00</td>\n",
              "      <td>POINT (-76.98304 38.86614)</td>\n",
              "    </tr>\n",
              "  </tbody>\n",
              "</table>\n",
              "</div>"
            ],
            "text/plain": [
              "            X          Y  ...       GIS_LAST_MOD_DTTM                    geometry\n",
              "91 -76.983039  38.866136  ...  2021/05/03 04:01:24+00  POINT (-76.98304 38.86614)\n",
              "\n",
              "[1 rows x 23 columns]"
            ]
          },
          "metadata": {
            "tags": []
          },
          "execution_count": 11
        }
      ]
    },
    {
      "cell_type": "code",
      "metadata": {
        "colab": {
          "base_uri": "https://localhost:8080/"
        },
        "id": "mH636n2RH78s",
        "outputId": "f91217a7-7ab3-4cd4-f5af-83319041e4eb"
      },
      "source": [
        "# Use geospatial join to identify which PUDs include affordable housing projects\n",
        "puds_aff = gpd.sjoin(puds, aff, op='intersects', how='left')"
      ],
      "execution_count": 12,
      "outputs": [
        {
          "output_type": "stream",
          "text": [
            "/usr/local/lib/python3.7/dist-packages/ipykernel_launcher.py:2: UserWarning: CRS mismatch between the CRS of left geometries and the CRS of right geometries.\n",
            "Use `to_crs()` to reproject one of the input geometries to match the CRS of the other.\n",
            "\n",
            "Left CRS: EPSG:4326\n",
            "Right CRS: +init=epsg:4326 +type=crs\n",
            "\n",
            "  \n"
          ],
          "name": "stderr"
        }
      ]
    },
    {
      "cell_type": "code",
      "metadata": {
        "colab": {
          "base_uri": "https://localhost:8080/"
        },
        "id": "HvosS0YxIB6N",
        "outputId": "bc0d12df-cf03-4d46-c552-86ace347e46c"
      },
      "source": [
        "# Check our Merge - incremental development, we're checking as we go!\n",
        "puds_aff.info()"
      ],
      "execution_count": 13,
      "outputs": [
        {
          "output_type": "stream",
          "text": [
            "<class 'geopandas.geodataframe.GeoDataFrame'>\n",
            "Int64Index: 310 entries, 0 to 301\n",
            "Data columns (total 35 columns):\n",
            " #   Column                         Non-Null Count  Dtype   \n",
            "---  ------                         --------------  -----   \n",
            " 0   OBJECTID_left                  310 non-null    int64   \n",
            " 1   PUD_NAME                       310 non-null    object  \n",
            " 2   PUD_WEB_UR                     310 non-null    object  \n",
            " 3   PUD_CHANGE                     308 non-null    object  \n",
            " 4   PUD_ZONING                     310 non-null    object  \n",
            " 5   PUD_STATUS                     310 non-null    object  \n",
            " 6   PUD_CASE_N                     310 non-null    object  \n",
            " 7   GLOBALID                       310 non-null    object  \n",
            " 8   WARD                           309 non-null    object  \n",
            " 9   SHAPEAREA                      310 non-null    int64   \n",
            " 10  SHAPELEN                       310 non-null    int64   \n",
            " 11  geometry                       310 non-null    geometry\n",
            " 12  index_right                    83 non-null     float64 \n",
            " 13  X                              83 non-null     float64 \n",
            " 14  Y                              83 non-null     float64 \n",
            " 15  OBJECTID_right                 83 non-null     float64 \n",
            " 16  MAR_WARD                       83 non-null     object  \n",
            " 17  ADDRESS                        83 non-null     object  \n",
            " 18  PROJECT_NAME                   83 non-null     object  \n",
            " 19  STATUS_PUBLIC                  83 non-null     object  \n",
            " 20  AGENCY_CALCULATED              83 non-null     object  \n",
            " 21  TOTAL_AFFORDABLE_UNITS         83 non-null     float64 \n",
            " 22  LATITUDE                       83 non-null     float64 \n",
            " 23  LONGITUDE                      83 non-null     float64 \n",
            " 24  AFFORDABLE_UNITS_AT_0_30_AMI   83 non-null     float64 \n",
            " 25  AFFORDABLE_UNITS_AT_31_50_AMI  83 non-null     float64 \n",
            " 26  AFFORDABLE_UNITS_AT_51_60_AMI  83 non-null     float64 \n",
            " 27  AFFORDABLE_UNITS_AT_61_80_AMI  83 non-null     float64 \n",
            " 28  AFFORDABLE_UNITS_AT_81_AMI     83 non-null     float64 \n",
            " 29  CASE_ID                        67 non-null     object  \n",
            " 30  ADDRESS_ID                     70 non-null     float64 \n",
            " 31  XCOORD                         83 non-null     float64 \n",
            " 32  YCOORD                         83 non-null     float64 \n",
            " 33  FULLADDRESS                    70 non-null     object  \n",
            " 34  GIS_LAST_MOD_DTTM              83 non-null     object  \n",
            "dtypes: float64(15), geometry(1), int64(3), object(16)\n",
            "memory usage: 87.2+ KB\n"
          ],
          "name": "stdout"
        }
      ]
    },
    {
      "cell_type": "code",
      "metadata": {
        "id": "WQxlkixzIE14"
      },
      "source": [
        "# Merge dataframe with zoning categories crosswalk\n",
        "puds_info = puds_aff.merge(crosswalk[['Zone_Cat']], how='left', left_on='PUD_ZONING', right_on=crosswalk['Zone'])"
      ],
      "execution_count": 14,
      "outputs": []
    },
    {
      "cell_type": "code",
      "metadata": {
        "colab": {
          "base_uri": "https://localhost:8080/"
        },
        "id": "B2_17sgvIMxp",
        "outputId": "603584ba-8fd2-456e-9e6c-12fafeb6e58b"
      },
      "source": [
        "# Quick count using print statements to show us how many PUDs there are total, and how many offer affordable housing.\n",
        "\n",
        "print(f\"Total count of PUDs: {puds_info.shape[0]}\")\n",
        "print(f\"Count PUDs offering Affordable Housing: {puds_info.loc[~puds_info.PROJECT_NAME.isna()].shape[0]}\")"
      ],
      "execution_count": 15,
      "outputs": [
        {
          "output_type": "stream",
          "text": [
            "Total count of PUDs: 310\n",
            "Count PUDs offering Affordable Housing: 83\n"
          ],
          "name": "stdout"
        }
      ]
    },
    {
      "cell_type": "code",
      "metadata": {
        "colab": {
          "base_uri": "https://localhost:8080/",
          "height": 483
        },
        "id": "SsNltElwIQiL",
        "outputId": "aabaf50f-4ba0-4502-a3a6-42466ba96825"
      },
      "source": [
        "# Create a map of PUDs by Zoning Category\n",
        "puds_info.plot(column='Zone_Cat', legend=True, figsize=(16,8));\n"
      ],
      "execution_count": 16,
      "outputs": [
        {
          "output_type": "display_data",
          "data": {
            "image/png": "[encoded data removed]",
            "text/plain": [
              "<Figure size 1152x576 with 1 Axes>"
            ]
          },
          "metadata": {
            "tags": [],
            "needs_background": "light"
          }
        }
      ]
    },
    {
      "cell_type": "code",
      "metadata": {
        "colab": {
          "base_uri": "https://localhost:8080/",
          "height": 517
        },
        "id": "ksmhWt0YIS6b",
        "outputId": "188b28f3-aae7-4f67-8ab2-4dedce7c9f91"
      },
      "source": [
        "# Create a map of just the PUDs that provide Affordable Housing\n",
        "puds_info[puds_info['TOTAL_AFFORDABLE_UNITS']>0].plot(column='TOTAL_AFFORDABLE_UNITS', color='grey', figsize=(16,8));"
      ],
      "execution_count": 17,
      "outputs": [
        {
          "output_type": "stream",
          "text": [
            "/usr/local/lib/python3.7/dist-packages/geopandas/plotting.py:642: UserWarning: Only specify one of 'column' or 'color'. Using 'color'.\n",
            "  \"Only specify one of 'column' or 'color'. Using 'color'.\", UserWarning\n"
          ],
          "name": "stderr"
        },
        {
          "output_type": "display_data",
          "data": {
            "image/png": "[encoded data removed]",
            "text/plain": [
              "<Figure size 1152x576 with 1 Axes>"
            ]
          },
          "metadata": {
            "tags": [],
            "needs_background": "light"
          }
        }
      ]
    },
    {
      "cell_type": "code",
      "metadata": {
        "colab": {
          "base_uri": "https://localhost:8080/"
        },
        "id": "zqF5TdNvIaxI",
        "outputId": "289efb58-30e8-4475-bdb8-a6299266b4fd"
      },
      "source": [
        "# Export geodataframe as shapefile within Colab environment\n",
        "puds_info.to_file('puds_info.shp')\n",
        "\n",
        "# Copy shapefile components from Colab environment to Google Drive using bash script\n",
        "!cp puds_info.cpg 'gdrive/My Drive/gis/output'\n",
        "!cp puds_info.dbf 'gdrive/My Drive/gis/output'\n",
        "!cp puds_info.prj 'gdrive/My Drive/gis/output'\n",
        "!cp puds_info.shp 'gdrive/My Drive/gis/output'\n",
        "!cp puds_info.shx 'gdrive/My Drive/gis/output'"
      ],
      "execution_count": 18,
      "outputs": [
        {
          "output_type": "stream",
          "text": [
            "/usr/local/lib/python3.7/dist-packages/ipykernel_launcher.py:2: UserWarning: Column names longer than 10 characters will be truncated when saved to ESRI Shapefile.\n",
            "  \n"
          ],
          "name": "stderr"
        }
      ]
    },
    {
      "cell_type": "code",
      "metadata": {
        "id": "Jog8CmAPIfQS"
      },
      "source": [
        ""
      ],
      "execution_count": null,
      "outputs": []
    }
  ]
}